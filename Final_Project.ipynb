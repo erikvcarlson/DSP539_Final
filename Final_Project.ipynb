{
 "cells": [
  {
   "cell_type": "code",
   "execution_count": 1,
   "metadata": {},
   "outputs": [],
   "source": [
    "import subprocess\n",
    "import sys\n",
    "import pandas as pd\n",
    "import datetime as dt\n",
    "\n",
    "def gps_data_prepartion(gps_data_csv):\n",
    "    gps_data_raw = pd.read_csv(gps_data_csv)\n",
    "    gps_data_sorted = gps_data_raw[['Y', 'X', 'ele','time']].copy()\n",
    "    gps_data_sorted['time']= pd.to_datetime(gps_data_sorted['time'])\n",
    "    return\n",
    "\n",
    "    "
   ]
  },
  {
   "cell_type": "code",
   "execution_count": 2,
   "metadata": {},
   "outputs": [
    {
     "name": "stdout",
     "output_type": "stream",
     "text": [
      "None\n"
     ]
    }
   ],
   "source": [
    "gps_data_cleaned = gps_data_prepartion('apr7_data.csv')\n",
    "\n",
    "print(gps_data_cleaned)"
   ]
  },
  {
   "cell_type": "code",
   "execution_count": null,
   "metadata": {},
   "outputs": [],
   "source": [
    "gps_data_csv = 'apr7_data.csv'"
   ]
  },
  {
   "cell_type": "code",
   "execution_count": null,
   "metadata": {},
   "outputs": [],
   "source": [
    "    gps_data_raw = pd.read_csv(gps_data_csv)\n",
    "    gps_data_sorted = gps_data_raw[['Y', 'X', 'ele','time']].copy()\n",
    "    gps_data_sorted['time']= pd.to_datetime(gps_data_sorted['time']) \n",
    "    gps_data_sorted['time']= pd.to_datetime(gps_data_sorted['time']) \n"
   ]
  },
  {
   "cell_type": "code",
   "execution_count": null,
   "metadata": {},
   "outputs": [],
   "source": []
  },
  {
   "cell_type": "code",
   "execution_count": null,
   "metadata": {},
   "outputs": [],
   "source": []
  }
 ],
 "metadata": {
  "kernelspec": {
   "display_name": "Python 3",
   "language": "python",
   "name": "python3"
  },
  "language_info": {
   "codemirror_mode": {
    "name": "ipython",
    "version": 3
   },
   "file_extension": ".py",
   "mimetype": "text/x-python",
   "name": "python",
   "nbconvert_exporter": "python",
   "pygments_lexer": "ipython3",
   "version": "3.6.8"
  }
 },
 "nbformat": 4,
 "nbformat_minor": 2
}
