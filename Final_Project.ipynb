{
 "cells": [
  {
   "attachments": {
    "sample_yagi_uda_pattern.svg": {
     "image/svg+xml": [
      "PD94bWwgdmVyc2lvbj0iMS4wIiBlbmNvZGluZz0iVVRGLTgiPz4KPCFET0NUWVBFIHN2ZyBQVUJMSUMgIi0vL1czQy8vRFREIFNWRyAxLjEvL0VOIiAiaHR0cDovL3d3dy53My5vcmcvR3JhcGhpY3MvU1ZHLzEuMS9EVEQvc3ZnMTEuZHRkIj4KPHN2ZyB2ZXJzaW9uPSIxLjEiIHhtbG5zPSJodHRwOi8vd3d3LnczLm9yZy8yMDAwL3N2ZyIgeG1sbnM6eGxpbms9Imh0dHA6Ly93d3cudzMub3JnLzE5OTkveGxpbmsiIHg9IjAiIHk9IjAiIHdpZHRoPSI2NzUuMDMiIGhlaWdodD0iMzA2IiB2aWV3Qm94PSIwLCAwLCA2NzUuMDMsIDMwNiI+CiAgPGcgaWQ9IkxheWVyXzEiPgogICAgPGc+CiAgICAgIDxnPgogICAgICAgIDxwYXRoIGQ9Ik0xMzEuNSwxODMgQzMxOS41LDEyMSA0OTAuNSwxMDQgNDkwLjUsMTgzIiBmaWxsLW9wYWNpdHk9IjAiIHN0cm9rZT0iIzY1NjU2NSIgc3Ryb2tlLXdpZHRoPSIzIi8+CiAgICAgICAgPHBhdGggZD0iTTEzMS41LDE4MyBDMzE5LjUsMjQ1IDQ5MC41LDI2MiA0OTAuNSwxODMiIGZpbGwtb3BhY2l0eT0iMCIgc3Ryb2tlPSIjNjU2NTY1IiBzdHJva2Utd2lkdGg9IjMiLz4KICAgICAgPC9nPgogICAgICA8Zz4KICAgICAgICA8cGF0aCBkPSJNMTMxLjUsMTgyLjEyMSBDMTIwLjUzNCwyMzMuODEgMTAxLjQ3NCwyNzUuNTMyIDgzLjI1NSwyNjQuOTE1IiBmaWxsLW9wYWNpdHk9IjAiIHN0cm9rZT0iIzY1NjU2NSIgc3Ryb2tlLXdpZHRoPSIzIi8+CiAgICAgICAgPHBhdGggZD0iTTEzMS41LDE4Mi4xMjEgQzkxLjkzNywyMTcuMTQ2IDY1LjAzNiwyNTQuMjk5IDgzLjI1NSwyNjQuOTE1IiBmaWxsLW9wYWNpdHk9IjAiIHN0cm9rZT0iIzY1NjU2NSIgc3Ryb2tlLXdpZHRoPSIzIi8+CiAgICAgIDwvZz4KICAgICAgPGc+CiAgICAgICAgPHBhdGggZD0iTTEzMS41LDE4Mi4xMjEgQzE0Mi40NjYsMTMwLjQzMiAxNjEuNTI2LDg4LjcxMSAxNzkuNzQ1LDk5LjMyNyIgZmlsbC1vcGFjaXR5PSIwIiBzdHJva2U9IiM2NTY1NjUiIHN0cm9rZS13aWR0aD0iMyIvPgogICAgICAgIDxwYXRoIGQ9Ik0xMzEuNSwxODIuMTIxIEMxNzEuMDYzLDE0Ny4wOTYgMTk3Ljk2NCwxMDkuOTQ0IDE3OS43NDUsOTkuMzI3IiBmaWxsLW9wYWNpdHk9IjAiIHN0cm9rZT0iIzY1NjU2NSIgc3Ryb2tlLXdpZHRoPSIzIi8+CiAgICAgIDwvZz4KICAgICAgPGc+CiAgICAgICAgPHBhdGggZD0iTTEzMS41LDE4Mi4xMjEgQzE0Mi40NjYsMjMzLjgxIDE2MS41MjYsMjc1LjUzMiAxNzkuNzQ1LDI2NC45MTUiIGZpbGwtb3BhY2l0eT0iMCIgc3Ryb2tlPSIjNjU2NTY1IiBzdHJva2Utd2lkdGg9IjMiLz4KICAgICAgICA8cGF0aCBkPSJNMTMxLjUsMTgyLjEyMSBDMTcxLjA2MywyMTcuMTQ2IDE5Ny45NjQsMjU0LjI5OSAxNzkuNzQ1LDI2NC45MTUiIGZpbGwtb3BhY2l0eT0iMCIgc3Ryb2tlPSIjNjU2NTY1IiBzdHJva2Utd2lkdGg9IjMiLz4KICAgICAgPC9nPgogICAgICA8Zz4KICAgICAgICA8cGF0aCBkPSJNMTMxLjUsMTgyLjEyMSBDMTIwLjUzNCwxMzAuNDMyIDEwMS40NzQsODguNzExIDgzLjI1NSw5OS4zMjciIGZpbGwtb3BhY2l0eT0iMCIgc3Ryb2tlPSIjNjU2NTY1IiBzdHJva2Utd2lkdGg9IjMiLz4KICAgICAgICA8cGF0aCBkPSJNMTMxLjUsMTgyLjEyMSBDOTEuOTM3LDE0Ny4wOTYgNjUuMDM2LDEwOS45NDQgODMuMjU1LDk5LjMyNyIgZmlsbC1vcGFjaXR5PSIwIiBzdHJva2U9IiM2NTY1NjUiIHN0cm9rZS13aWR0aD0iMyIvPgogICAgICA8L2c+CiAgICAgIDxnPgogICAgICAgIDxwYXRoIGQ9Ik0xMzEuNSwxODMgQzY1LjUxNywxNTIuNTQ2IDUuNSwxNDQuMTk1IDUuNSwxODMiIGZpbGwtb3BhY2l0eT0iMCIgc3Ryb2tlPSIjNjU2NTY1IiBzdHJva2Utd2lkdGg9IjMiLz4KICAgICAgICA8cGF0aCBkPSJNMTMxLjUsMTgzIEM2NS41MTcsMjEzLjQ1NCA1LjUsMjIxLjgwNSA1LjUsMTgzIiBmaWxsLW9wYWNpdHk9IjAiIHN0cm9rZT0iIzY1NjU2NSIgc3Ryb2tlLXdpZHRoPSIzIi8+CiAgICAgIDwvZz4KICAgICAgPGc+CiAgICAgICAgPHBhdGggZD0iTTI0My41LDQ2IEwxOTQuMjIxLDg5Ljk0NCIgZmlsbC1vcGFjaXR5PSIwIiBzdHJva2U9IiNBM0EzQTMiIHN0cm9rZS13aWR0aD0iNCIvPgogICAgICAgIDxwYXRoIGQ9Ik0xOTQuMjIxLDg5Ljk0NCBMMTkzLjQxNSw4NC4yMzIgTDE4Ny4wNTcsOTYuMzM0IEwxOTkuODA0LDkxLjM5NyB6IiBmaWxsPSIjQTNBM0EzIiBmaWxsLW9wYWNpdHk9IjEiIHN0cm9rZT0iI0EzQTNBMyIgc3Ryb2tlLXdpZHRoPSI0IiBzdHJva2Utb3BhY2l0eT0iMSIvPgogICAgICA8L2c+CiAgICAgIDxnPgogICAgICAgIDxwYXRoIGQ9Ik0yNDMuNSw0NiBMMTA5LjQyNyw5My43NzEiIGZpbGwtb3BhY2l0eT0iMCIgc3Ryb2tlPSIjQTNBM0EzIiBzdHJva2Utd2lkdGg9IjQiLz4KICAgICAgICA8cGF0aCBkPSJNMTA5LjQyNyw5My43NzEgTDExMC44Myw4OC4xNzYgTDEwMC4zODQsOTYuOTk0IEwxMTQuMDUzLDk3LjIxOSB6IiBmaWxsPSIjQTNBM0EzIiBmaWxsLW9wYWNpdHk9IjEiIHN0cm9rZT0iI0EzQTNBMyIgc3Ryb2tlLXdpZHRoPSI0IiBzdHJva2Utb3BhY2l0eT0iMSIvPgogICAgICA8L2c+CiAgICAgIDxnPgogICAgICAgIDxwYXRoIGQ9Ik01MDguMjQ5LDE4Mi4xMjEgTDYyNC45LDE4Mi4xMjEiIGZpbGwtb3BhY2l0eT0iMCIgc3Ryb2tlPSIjQzgxOTE5IiBzdHJva2Utd2lkdGg9IjQiLz4KICAgICAgICA8cGF0aCBkPSJNNjI0LjksMTgyLjEyMSBMNjIxLjcsMTg2LjkyMSBMNjM0LjUsMTgyLjEyMSBMNjIxLjcsMTc3LjMyMSB6IiBmaWxsPSIjQzgxOTE5IiBmaWxsLW9wYWNpdHk9IjEiIHN0cm9rZT0iI0M4MTkxOSIgc3Ryb2tlLXdpZHRoPSI0IiBzdHJva2Utb3BhY2l0eT0iMSIvPgogICAgICA8L2c+CiAgICAgIDx0ZXh0IHRyYW5zZm9ybT0ibWF0cml4KDEsIDAsIDAsIDEsIDU2OS4wMTUsIDI1MSkiPgogICAgICAgIDx0c3BhbiB4PSItNjYuMTMyIiB5PSItMjAiIGZvbnQtZmFtaWx5PSJBdmVuaXItTWVkaXVtIiBmb250LXNpemU9IjM1IiBmaWxsPSIjNjU2NTY1Ij5Gb3J3YXJkIDwvdHNwYW4+CiAgICAgICAgPHRzcGFuIHg9Ii03MC4wMTgiIHk9IjI4IiBmb250LWZhbWlseT0iQXZlbmlyLU1lZGl1bSIgZm9udC1zaXplPSIzNSIgZmlsbD0iIzY1NjU2NSI+ZGlyZWN0aW9uPC90c3Bhbj4KICAgICAgPC90ZXh0PgogICAgICA8dGV4dCB0cmFuc2Zvcm09Im1hdHJpeCgxLCAwLCAwLCAxLCAyMzEuMDE1LCAyOSkiPgogICAgICAgIDx0c3BhbiB4PSItODIuMDA1IiB5PSI2IiBmb250LWZhbWlseT0iQXZlbmlyLU1lZGl1bSIgZm9udC1zaXplPSIzNSIgZmlsbD0iIzY1NjU2NSI+U2lkZSBsb2JlczwvdHNwYW4+CiAgICAgIDwvdGV4dD4KICAgIDwvZz4KICA8L2c+Cjwvc3ZnPgo="
     ]
    }
   },
   "cell_type": "markdown",
   "metadata": {},
   "source": [
    "# A Tessellated Approach to Fine-Scale Tracking of Endangered Birds and Bats Surrounding the Block Island Wind Farm\n",
    "\n",
    "\n",
    "## Introduction\n",
    "With the construction of the Block Island Wind Farm (BIWF) in 2015, the meso-scale avoidance patterns of migratory birds and bats around the BIWF remains largely unstudied. Previous attempts, such as {cite:t} 'loring_griffin_janaswamy_paton_sievert_2016' and {cite:t} 'janaswamy2018state' only achieved macro-scale movement patterns of endargered wildlife due to their reliance on estimated biological models. Although this method is highly efficent, requiring only a low station density in the area of interest, it fails provide reasonable meso-scale behavior given the wide range of locations an animal can be given a certain detection value. \n",
    "\n",
    "To provide meso-scale movement behavior, a new techniqued needed to be developed. Given the BIWF's close proximity to shore a basic triangulation scheme was devised to study the Although station intensive, cooperation with the windfarm developer will allow for the deployment of three stations located at Black Rock Beach, South East Light House, and a station located on a turbine service platform within the windfarm. \n",
    "\n",
    "Each station will contain four circularly polarized yagi-uda directional antennas on a 20m mast offset at 90 degrees from each other and one onmi-directional antenna. The radiation pattern of each antenna, that is the area in which the antenna will \"see\" a transmitter is dependent on the antennas gain, the number of reflectors, and its polarization. An omni-directional antenna sacrifices range for a generally sperical radiation pattern. A yagi antenna, as seen in the image below, generally has an ellisoidal pattern with a variety of side lobes. ![sample_yagi_uda_pattern.svg](attachment:sample_yagi_uda_pattern.svg).\n",
    "\n",
    "For our configuration, the radiation pattern of yagi-uda is not known a priori. Additionally, there is an uncaluclatable amount of reflections produced by the array as a whole. For example, the main beam which the antenna array is attached to can act as an additional reflector producing results which cannot be calculated in the lab. Thus to best understand our  "
   ]
  },
  {
   "cell_type": "code",
   "execution_count": 10,
   "metadata": {},
   "outputs": [],
   "source": [
    "#Basic Packages\n",
    "import subprocess\n",
    "import sys\n",
    "#Implenting a function to insall more complex packages\n",
    "def install(package):\n",
    "    subprocess.check_call([sys.executable, \"-m\", \"pip\", \"install\", package])\n",
    "#installing the required 3rd party packages\n",
    "install('pandas')\n",
    "install('datetime')\n",
    "install('numpy')\n",
    "install('navpy')\n",
    "install('matplotlib')\n",
    "\n",
    "#import the require packages to run our software\n",
    "import pandas as pd\n",
    "import datetime as dt\n",
    "import time\n",
    "import numpy as np\n",
    "import multiprocessing as mp\n",
    "import final_proj_functions as fpf\n",
    "import navpy \n",
    "import matplotlib.pyplot as plt\n",
    "\n",
    "#import our gps data as pandas dataframe\n",
    "gps_data_csv = 'apr7_data.csv'\n",
    "gps_data_raw = pd.read_csv(gps_data_csv)\n",
    "gps_data_sorted = gps_data_raw[['Y', 'X', 'ele','time']].copy()\n",
    "gps_data_sorted['time']= pd.to_datetime(gps_data_sorted['time']) \n",
    "gps_data_sorted['time']= pd.to_datetime(gps_data_sorted['time']) \n",
    "\n",
    "#defining our antenna data\n",
    "antenna_data_csv = 'apr7_tag.csv'\n",
    "\n",
    "#utilizing our antenna_puller function we are going to import our antenna data for each different antenna \n",
    "antenna_1_data = fpf.antenna_puller(antenna_data_csv,1)\n",
    "antenna_2_data = fpf.antenna_puller(antenna_data_csv,2)\n",
    "antenna_3_data = fpf.antenna_puller(antenna_data_csv,3)\n",
    "antenna_4_data = fpf.antenna_puller(antenna_data_csv,4)\n",
    "antenna_5_data = fpf.antenna_puller(antenna_data_csv,5)\n",
    "\n",
    "#combining the gps and tag data by antenna to show the detected dbm at various points\n",
    "lat_long_of_detections_1 = fpf.latlong_of_detections_creator(gps_data_sorted, antenna_1_data)\n",
    "lat_long_of_detections_2 = fpf.latlong_of_detections_creator(gps_data_sorted, antenna_2_data)\n",
    "lat_long_of_detections_3 = fpf.latlong_of_detections_creator(gps_data_sorted, antenna_3_data)\n",
    "lat_long_of_detections_4 = fpf.latlong_of_detections_creator(gps_data_sorted, antenna_4_data)\n",
    "lat_long_of_detections_5 = fpf.latlong_of_detections_creator(gps_data_sorted, antenna_5_data)\n",
    "\n",
    "#manually defin\n",
    "station_location = [41.520752667,-71.599254667,40.0];\n",
    "station_offset = navpy.lla2ecef(station_location[0],station_location[1],station_location[2])\n",
    "\n",
    "ant1_xyz = fpf.xyz_converter(station_location,station_offset,lat_long_of_detections_1)\n",
    "ant2_xyz = fpf.xyz_converter(station_location,station_offset,lat_long_of_detections_2)\n",
    "ant3_xyz = fpf.xyz_converter(station_location,station_offset,lat_long_of_detections_3)\n",
    "ant4_xyz = fpf.xyz_converter(station_location,station_offset,lat_long_of_detections_4)\n",
    "ant5_xyz = fpf.xyz_converter(station_location,station_offset,lat_long_of_detections_5)    \n",
    "\n",
    "\n"
   ]
  }
 ],
 "metadata": {
  "kernelspec": {
   "display_name": "Python 3",
   "language": "python",
   "name": "python3"
  },
  "language_info": {
   "codemirror_mode": {
    "name": "ipython",
    "version": 3
   },
   "file_extension": ".py",
   "mimetype": "text/x-python",
   "name": "python",
   "nbconvert_exporter": "python",
   "pygments_lexer": "ipython3",
   "version": "3.6.8"
  }
 },
 "nbformat": 4,
 "nbformat_minor": 2
}
